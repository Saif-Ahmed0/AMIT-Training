{
 "cells": [
  {
   "cell_type": "markdown",
   "metadata": {},
   "source": [
    "## Write a Numpy program to compute the multiplication of two given matrixes"
   ]
  },
  {
   "cell_type": "code",
   "execution_count": 2,
   "metadata": {},
   "outputs": [],
   "source": [
    "import numpy as np                #coll library numpy and shortcut np\n",
    "A=np.random.randint(1,100,[3,3])  #Create an array\n",
    "B=np.random.randint(1,100,[3,3])  #Create an array"
   ]
  },
  {
   "cell_type": "code",
   "execution_count": 4,
   "metadata": {},
   "outputs": [
    {
     "data": {
      "text/plain": [
       "array([[ 9478,  4720,  7388],\n",
       "       [12941,  5867,  9902],\n",
       "       [16378, 10834, 13603]])"
      ]
     },
     "execution_count": 4,
     "metadata": {},
     "output_type": "execute_result"
    }
   ],
   "source": [
    "np.dot(A,B)                       #A multiplication B"
   ]
  },
  {
   "cell_type": "markdown",
   "metadata": {},
   "source": [
    "## Write a NumPy program to compute the determinant of a given square array"
   ]
  },
  {
   "cell_type": "code",
   "execution_count": 6,
   "metadata": {},
   "outputs": [
    {
     "name": "stdout",
     "output_type": "stream",
     "text": [
      "2.0\n"
     ]
    }
   ],
   "source": [
    "########################من علي النت علشان مشعارفها خالص \n",
    "\n",
    "from numpy import linalg as LA     # library linalg shortcut LA\n",
    "a = np.array([[1, 0], [1, 2]])     #  square array\n",
    "\n",
    "print(np.linalg.det(a))            # determinant it\n"
   ]
  },
  {
   "cell_type": "code",
   "execution_count": null,
   "metadata": {},
   "outputs": [],
   "source": []
  },
  {
   "cell_type": "markdown",
   "metadata": {},
   "source": [
    "## Write a NumPy program to compute the cross product of two given vectors"
   ]
  },
  {
   "cell_type": "code",
   "execution_count": 12,
   "metadata": {},
   "outputs": [
    {
     "name": "stdout",
     "output_type": "stream",
     "text": [
      "cross product of the said two vectors(A, B):\n",
      "[[ 1676    64 -2582]\n",
      " [-1104 -2238  3816]\n",
      " [ 3444  2128 -5936]]\n",
      "cross product of the said two vectors(B, A):\n",
      "[[-1676   -64  2582]\n",
      " [ 1104  2238 -3816]\n",
      " [-3444 -2128  5936]]\n"
     ]
    }
   ],
   "source": [
    "print(\"cross product of the said two vectors(A, B):\") #  print a cross b\n",
    "print(np.cross(A,B))  # function A cross B\n",
    "print(\"cross product of the said two vectors(B, A):\") #  print a cross b\n",
    "print(np.cross(B,A))  # function B cross A\n"
   ]
  },
  {
   "cell_type": "markdown",
   "metadata": {},
   "source": [
    "## Write a NumPy program to compute the condition number of a given matrix"
   ]
  },
  {
   "cell_type": "code",
   "execution_count": 13,
   "metadata": {},
   "outputs": [
    {
     "data": {
      "text/plain": [
       "171.10553959275626"
      ]
     },
     "execution_count": 13,
     "metadata": {},
     "output_type": "execute_result"
    }
   ],
   "source": [
    "LA.cond(A)  #NumPy function condition "
   ]
  },
  {
   "cell_type": "markdown",
   "metadata": {},
   "source": [
    "## Write a NumPy program to compute the inverse of a given matrix"
   ]
  },
  {
   "cell_type": "code",
   "execution_count": 14,
   "metadata": {},
   "outputs": [
    {
     "data": {
      "text/plain": [
       "array([[ 0.2613769 , -0.13185531, -0.042007  ],\n",
       "       [ 0.39731622, -0.24581875, -0.0311163 ],\n",
       "       [-0.78296383,  0.45896538,  0.09607157]])"
      ]
     },
     "execution_count": 14,
     "metadata": {},
     "output_type": "execute_result"
    }
   ],
   "source": [
    "np.linalg.inv(A)  #NumPy function inverse"
   ]
  }
 ],
 "metadata": {
  "kernelspec": {
   "display_name": "Python 3 (ipykernel)",
   "language": "python",
   "name": "python3"
  },
  "language_info": {
   "codemirror_mode": {
    "name": "ipython",
    "version": 3
   },
   "file_extension": ".py",
   "mimetype": "text/x-python",
   "name": "python",
   "nbconvert_exporter": "python",
   "pygments_lexer": "ipython3",
   "version": "3.9.12"
  }
 },
 "nbformat": 4,
 "nbformat_minor": 2
}
