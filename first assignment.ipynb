{
 "cells": [
  {
   "cell_type": "markdown",
   "id": "1554067a",
   "metadata": {},
   "source": [
    "## multiply the values"
   ]
  },
  {
   "cell_type": "code",
   "execution_count": 47,
   "id": "466e9dc3",
   "metadata": {},
   "outputs": [
    {
     "name": "stdout",
     "output_type": "stream",
     "text": [
      "Enter two values: 8 2\n"
     ]
    }
   ],
   "source": [
    "# this function get two values\n",
    "x,y = input(\"Enter two values: \").split()"
   ]
  },
  {
   "cell_type": "code",
   "execution_count": 48,
   "id": "f7dbed2d",
   "metadata": {},
   "outputs": [
    {
     "name": "stdout",
     "output_type": "stream",
     "text": [
      "1st Num= 8\n"
     ]
    }
   ],
   "source": [
    "# print first number to check\n",
    "print('1st Num=',x)"
   ]
  },
  {
   "cell_type": "code",
   "execution_count": 49,
   "id": "09696e4c",
   "metadata": {},
   "outputs": [
    {
     "name": "stdout",
     "output_type": "stream",
     "text": [
      "1st Num= 2\n"
     ]
    }
   ],
   "source": [
    "# print second number to check\n",
    "print('1st Num=',y)"
   ]
  },
  {
   "cell_type": "code",
   "execution_count": 50,
   "id": "45d5ace6",
   "metadata": {},
   "outputs": [],
   "source": [
    "# to change it str to int\n",
    "Y=int(y)"
   ]
  },
  {
   "cell_type": "code",
   "execution_count": 51,
   "id": "8106a3f1",
   "metadata": {},
   "outputs": [
    {
     "data": {
      "text/plain": [
       "int"
      ]
     },
     "execution_count": 51,
     "metadata": {},
     "output_type": "execute_result"
    }
   ],
   "source": [
    "# to check it\n",
    "type(Y)"
   ]
  },
  {
   "cell_type": "code",
   "execution_count": 52,
   "id": "bc68cf8f",
   "metadata": {},
   "outputs": [],
   "source": [
    "# to change it str to int\n",
    "X=int(x)"
   ]
  },
  {
   "cell_type": "code",
   "execution_count": 53,
   "id": "e6c8be62",
   "metadata": {},
   "outputs": [
    {
     "data": {
      "text/plain": [
       "int"
      ]
     },
     "execution_count": 53,
     "metadata": {},
     "output_type": "execute_result"
    }
   ],
   "source": [
    "# to check it\n",
    "type(Y)"
   ]
  },
  {
   "cell_type": "code",
   "execution_count": 54,
   "id": "8bbeb332",
   "metadata": {},
   "outputs": [
    {
     "name": "stdout",
     "output_type": "stream",
     "text": [
      "10\n"
     ]
    }
   ],
   "source": [
    "# prin X Plus Y\n",
    "print(X+Y)"
   ]
  },
  {
   "cell_type": "code",
   "execution_count": null,
   "id": "b0c6834b",
   "metadata": {},
   "outputs": [],
   "source": []
  }
 ],
 "metadata": {
  "kernelspec": {
   "display_name": "Python 3 (ipykernel)",
   "language": "python",
   "name": "python3"
  },
  "language_info": {
   "codemirror_mode": {
    "name": "ipython",
    "version": 3
   },
   "file_extension": ".py",
   "mimetype": "text/x-python",
   "name": "python",
   "nbconvert_exporter": "python",
   "pygments_lexer": "ipython3",
   "version": "3.9.12"
  }
 },
 "nbformat": 4,
 "nbformat_minor": 5
}
