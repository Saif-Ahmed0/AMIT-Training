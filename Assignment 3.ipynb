{
 "cells": [
  {
   "cell_type": "markdown",
   "metadata": {},
   "source": [
    "# Assignment 3"
   ]
  },
  {
   "cell_type": "markdown",
   "metadata": {},
   "source": [
    "### Write a function to count the number 4 in a given list."
   ]
  },
  {
   "cell_type": "code",
   "execution_count": 1,
   "metadata": {},
   "outputs": [],
   "source": [
    "def count (list):                 #Create a function \n",
    "    total=0                       #condition\n",
    "    for num in list:              #for loop in list\n",
    "        if num==4:                #condition\n",
    "            total=total+1         \n",
    "    return total"
   ]
  },
  {
   "cell_type": "code",
   "execution_count": 2,
   "metadata": {},
   "outputs": [
    {
     "name": "stdout",
     "output_type": "stream",
     "text": [
      "The number of repetition of the number 4= 2\n"
     ]
    }
   ],
   "source": [
    "x=[1,5,7,4,5,4,-2,1]\n",
    "print(\"The number of repetition of the number 4=\",count(x))"
   ]
  },
  {
   "cell_type": "markdown",
   "metadata": {},
   "source": [
    "### write a  function to check whether a number is divisible by another number."
   ]
  },
  {
   "cell_type": "code",
   "execution_count": 3,
   "metadata": {},
   "outputs": [],
   "source": [
    "def div (num1,num2):             #Create a function \n",
    "    if num1 %num2==0:            #if 1st number divisible 2st number\n",
    "        print('yas')             #print yas\n",
    "    else:                         \n",
    "        print('no')              #else print no"
   ]
  },
  {
   "cell_type": "code",
   "execution_count": 5,
   "metadata": {
    "scrolled": true
   },
   "outputs": [
    {
     "name": "stdout",
     "output_type": "stream",
     "text": [
      "no\n",
      "yas\n"
     ]
    }
   ],
   "source": [
    "div(6,7)                         #colling  \n",
    "div(6,2)                         #colling "
   ]
  },
  {
   "cell_type": "markdown",
   "metadata": {},
   "source": [
    "### write a function to find the maximum and minimum numbers from a sequence of numbers."
   ]
  },
  {
   "cell_type": "code",
   "execution_count": 6,
   "metadata": {},
   "outputs": [],
   "source": [
    "def max_min (list):                     #Create a function \n",
    "    maxim=list[0]                       #in a defolt max is 1st numbrt in lest\n",
    "    minim=list[0]                       #in a defolt min is 1st numbrt in lest\n",
    "    for num in list:                    #for loop in list\n",
    "        if maxim<=num:                  #condition If the stored number is < than the number\n",
    "            maxim=num                   #updat\n",
    "        if minim>=num:                  #condition If the stored number is > than the number\n",
    "            minim=num                   #updat\n",
    "    return print('the maximum{} and minimum numbers{}'.format(maxim,minim))       #ptint "
   ]
  },
  {
   "cell_type": "code",
   "execution_count": 7,
   "metadata": {},
   "outputs": [
    {
     "name": "stdout",
     "output_type": "stream",
     "text": [
      "the maximum7 and minimum numbers-2\n"
     ]
    }
   ],
   "source": [
    "max_min(x)                              #colling  "
   ]
  },
  {
   "cell_type": "markdown",
   "metadata": {},
   "source": [
    "### Write a Python function that takes two lists and returns True if they have at least one common member."
   ]
  },
  {
   "cell_type": "code",
   "execution_count": 8,
   "metadata": {},
   "outputs": [],
   "source": [
    "def subscriber (list1,list2):           #Create a function \n",
    "    bool = False                        #in defolt bool is F\n",
    "    for num1 in list1:                  #for loop in list2\n",
    "        for num2 in list2:              # and anuther for loop in list2 insed for loop list1\n",
    "            if num1==num2:              #condition \n",
    "                bool=True               #chang bool to T\n",
    "    return bool                         #return it"
   ]
  },
  {
   "cell_type": "code",
   "execution_count": 9,
   "metadata": {},
   "outputs": [
    {
     "name": "stdout",
     "output_type": "stream",
     "text": [
      "True\n",
      "False\n"
     ]
    }
   ],
   "source": [
    "\n",
    "y=[1,2,3,4,5,6,7,8,9]\n",
    "z=[97,84,17]\n",
    "\n",
    "print(subscriber(x,y))         #colling  \n",
    "print(subscriber(z,y))         #colling  "
   ]
  },
  {
   "cell_type": "markdown",
   "metadata": {},
   "source": [
    "### Write a Python function to calculate the factorial of a number (a non-negative integer). The function accepts the number from the user"
   ]
  },
  {
   "cell_type": "code",
   "execution_count": 10,
   "metadata": {},
   "outputs": [
    {
     "name": "stdout",
     "output_type": "stream",
     "text": [
      "enter number=5\n",
      "The factorial of 5 is 120\n"
     ]
    }
   ],
   "source": [
    "def factorial ():                                    #Create a function \n",
    "    fact=1                                           #in defolt favt variabol =1\n",
    "    num=int(input(\"enter number=\"))                    #get number in user integer\n",
    "    if num<0:                                          #condition non-negative\n",
    "        print (\"non-negative -_-\")\n",
    "    elif num==0:                                       #condition non-zero\n",
    "        print (\"non-zero o_o\")\n",
    "    else:\n",
    "        for i in range(1,num+1):                       #for loop in number\n",
    "            fact = fact*i                              \n",
    "        print(\"The factorial of\",num,\"is\",fact)        #print \n",
    "        \n",
    "    \n",
    "factorial()                                            #colling      "
   ]
  },
  {
   "cell_type": "markdown",
   "metadata": {},
   "source": [
    "### Write a Python function to check whether a number is in a given range.\n",
    "\n",
    "### The range is from 3 to 11\n"
   ]
  },
  {
   "cell_type": "code",
   "execution_count": 15,
   "metadata": {},
   "outputs": [
    {
     "name": "stdout",
     "output_type": "stream",
     "text": [
      "True\n",
      "False\n"
     ]
    }
   ],
   "source": [
    "def check (num):                        #Create a function \n",
    "    bool=False                          #in defolt bool is F\n",
    "    for ra in range(3,12):              #for loop in 3:11\n",
    "        if num==ra:                     #condition\n",
    "            bool=True                   #chang bool to T\n",
    "    return bool\n",
    "\n",
    "print(check(11))                         #colling  \n",
    "print(check(1))                          #colling  "
   ]
  },
  {
   "cell_type": "markdown",
   "metadata": {},
   "source": [
    "### Write a  program to create the multiplication table (from 1 to 10) of a number."
   ]
  },
  {
   "cell_type": "code",
   "execution_count": 16,
   "metadata": {},
   "outputs": [
    {
     "name": "stdout",
     "output_type": "stream",
     "text": [
      "enter number=10\n",
      "10*1=10\n",
      "10*2=20\n",
      "10*3=30\n",
      "10*4=40\n",
      "10*5=50\n",
      "10*6=60\n",
      "10*7=70\n",
      "10*8=80\n",
      "10*9=90\n",
      "10*10=100\n"
     ]
    }
   ],
   "source": [
    "def multiplication_table():                        #Create a function \n",
    "    num=int(input(\"enter number=\"))                #get number in user integer\n",
    "    for n in range(1,11):                          #for loop in 1:10\n",
    "        result=num*n\n",
    "        print(\"{}*{}={}\".format(num,n,result))      #print\n",
    "multiplication_table()                              #colling"
   ]
  },
  {
   "cell_type": "markdown",
   "metadata": {},
   "source": [
    "#### LESSER OF TWO EVENS: Write a function that returns the lesser of two given numbers *if* both numbers are even, but returns the greater if one or both numbers are odd\n",
    "    lesser_of_two_evens(2,4) --> 2\n",
    "    lesser_of_two_evens(2,5) --> 5"
   ]
  },
  {
   "cell_type": "code",
   "execution_count": 17,
   "metadata": {},
   "outputs": [
    {
     "name": "stdout",
     "output_type": "stream",
     "text": [
      "2\n",
      "5\n"
     ]
    }
   ],
   "source": [
    "def lesser_of_two_evens(num1,num2):                     #Create a function \n",
    "    if num1%2==0 and num2%2==0:                         #condition tow number is even\n",
    "        print(min(num1,num2))                           #print min\n",
    "    else:                                               \n",
    "        print(max(num1,num2))                           #print max\n",
    "    \n",
    "    \n",
    "\n",
    "lesser_of_two_evens(2,4)                                #colling\n",
    "lesser_of_two_evens(2,5)                                #colling"
   ]
  },
  {
   "cell_type": "code",
   "execution_count": null,
   "metadata": {},
   "outputs": [],
   "source": []
  }
 ],
 "metadata": {
  "kernelspec": {
   "display_name": "Python 3 (ipykernel)",
   "language": "python",
   "name": "python3"
  },
  "language_info": {
   "codemirror_mode": {
    "name": "ipython",
    "version": 3
   },
   "file_extension": ".py",
   "mimetype": "text/x-python",
   "name": "python",
   "nbconvert_exporter": "python",
   "pygments_lexer": "ipython3",
   "version": "3.9.12"
  }
 },
 "nbformat": 4,
 "nbformat_minor": 2
}
